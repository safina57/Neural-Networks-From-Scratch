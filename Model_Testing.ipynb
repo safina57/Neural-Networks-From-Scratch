{
 "cells": [
  {
   "metadata": {},
   "cell_type": "markdown",
   "source": "# Importing Libraries",
   "id": "933c75a7c5b660d9"
  },
  {
   "cell_type": "code",
   "id": "initial_id",
   "metadata": {
    "collapsed": true,
    "ExecuteTime": {
     "end_time": "2024-08-31T14:02:51.738234Z",
     "start_time": "2024-08-31T14:02:50.579991Z"
    }
   },
   "source": [
    "from sklearn.model_selection import train_test_split\n",
    "import matplotlib.pyplot as plt\n",
    "import model_class as mc\n",
    "import numpy as np\n",
    "import pandas as pd"
   ],
   "outputs": [],
   "execution_count": 1
  },
  {
   "metadata": {},
   "cell_type": "markdown",
   "source": "# Data Exploration",
   "id": "2148981125884b7d"
  },
  {
   "metadata": {
    "ExecuteTime": {
     "end_time": "2024-08-31T14:02:53.244502Z",
     "start_time": "2024-08-31T14:02:51.739258Z"
    }
   },
   "cell_type": "code",
   "source": [
    "# Import the dataset\n",
    "data = pd.read_csv('train.csv')"
   ],
   "id": "8b506fd18636b829",
   "outputs": [],
   "execution_count": 2
  },
  {
   "metadata": {
    "ExecuteTime": {
     "end_time": "2024-08-31T14:02:53.260944Z",
     "start_time": "2024-08-31T14:02:53.245509Z"
    }
   },
   "cell_type": "code",
   "source": [
    "# Display the first few rows of the dataset\n",
    "data.head()"
   ],
   "id": "2753979b1248b3a1",
   "outputs": [
    {
     "data": {
      "text/plain": [
       "   label  pixel0  pixel1  pixel2  pixel3  pixel4  pixel5  pixel6  pixel7  \\\n",
       "0      1       0       0       0       0       0       0       0       0   \n",
       "1      0       0       0       0       0       0       0       0       0   \n",
       "2      1       0       0       0       0       0       0       0       0   \n",
       "3      4       0       0       0       0       0       0       0       0   \n",
       "4      0       0       0       0       0       0       0       0       0   \n",
       "\n",
       "   pixel8  ...  pixel774  pixel775  pixel776  pixel777  pixel778  pixel779  \\\n",
       "0       0  ...         0         0         0         0         0         0   \n",
       "1       0  ...         0         0         0         0         0         0   \n",
       "2       0  ...         0         0         0         0         0         0   \n",
       "3       0  ...         0         0         0         0         0         0   \n",
       "4       0  ...         0         0         0         0         0         0   \n",
       "\n",
       "   pixel780  pixel781  pixel782  pixel783  \n",
       "0         0         0         0         0  \n",
       "1         0         0         0         0  \n",
       "2         0         0         0         0  \n",
       "3         0         0         0         0  \n",
       "4         0         0         0         0  \n",
       "\n",
       "[5 rows x 785 columns]"
      ],
      "text/html": [
       "<div>\n",
       "<style scoped>\n",
       "    .dataframe tbody tr th:only-of-type {\n",
       "        vertical-align: middle;\n",
       "    }\n",
       "\n",
       "    .dataframe tbody tr th {\n",
       "        vertical-align: top;\n",
       "    }\n",
       "\n",
       "    .dataframe thead th {\n",
       "        text-align: right;\n",
       "    }\n",
       "</style>\n",
       "<table border=\"1\" class=\"dataframe\">\n",
       "  <thead>\n",
       "    <tr style=\"text-align: right;\">\n",
       "      <th></th>\n",
       "      <th>label</th>\n",
       "      <th>pixel0</th>\n",
       "      <th>pixel1</th>\n",
       "      <th>pixel2</th>\n",
       "      <th>pixel3</th>\n",
       "      <th>pixel4</th>\n",
       "      <th>pixel5</th>\n",
       "      <th>pixel6</th>\n",
       "      <th>pixel7</th>\n",
       "      <th>pixel8</th>\n",
       "      <th>...</th>\n",
       "      <th>pixel774</th>\n",
       "      <th>pixel775</th>\n",
       "      <th>pixel776</th>\n",
       "      <th>pixel777</th>\n",
       "      <th>pixel778</th>\n",
       "      <th>pixel779</th>\n",
       "      <th>pixel780</th>\n",
       "      <th>pixel781</th>\n",
       "      <th>pixel782</th>\n",
       "      <th>pixel783</th>\n",
       "    </tr>\n",
       "  </thead>\n",
       "  <tbody>\n",
       "    <tr>\n",
       "      <th>0</th>\n",
       "      <td>1</td>\n",
       "      <td>0</td>\n",
       "      <td>0</td>\n",
       "      <td>0</td>\n",
       "      <td>0</td>\n",
       "      <td>0</td>\n",
       "      <td>0</td>\n",
       "      <td>0</td>\n",
       "      <td>0</td>\n",
       "      <td>0</td>\n",
       "      <td>...</td>\n",
       "      <td>0</td>\n",
       "      <td>0</td>\n",
       "      <td>0</td>\n",
       "      <td>0</td>\n",
       "      <td>0</td>\n",
       "      <td>0</td>\n",
       "      <td>0</td>\n",
       "      <td>0</td>\n",
       "      <td>0</td>\n",
       "      <td>0</td>\n",
       "    </tr>\n",
       "    <tr>\n",
       "      <th>1</th>\n",
       "      <td>0</td>\n",
       "      <td>0</td>\n",
       "      <td>0</td>\n",
       "      <td>0</td>\n",
       "      <td>0</td>\n",
       "      <td>0</td>\n",
       "      <td>0</td>\n",
       "      <td>0</td>\n",
       "      <td>0</td>\n",
       "      <td>0</td>\n",
       "      <td>...</td>\n",
       "      <td>0</td>\n",
       "      <td>0</td>\n",
       "      <td>0</td>\n",
       "      <td>0</td>\n",
       "      <td>0</td>\n",
       "      <td>0</td>\n",
       "      <td>0</td>\n",
       "      <td>0</td>\n",
       "      <td>0</td>\n",
       "      <td>0</td>\n",
       "    </tr>\n",
       "    <tr>\n",
       "      <th>2</th>\n",
       "      <td>1</td>\n",
       "      <td>0</td>\n",
       "      <td>0</td>\n",
       "      <td>0</td>\n",
       "      <td>0</td>\n",
       "      <td>0</td>\n",
       "      <td>0</td>\n",
       "      <td>0</td>\n",
       "      <td>0</td>\n",
       "      <td>0</td>\n",
       "      <td>...</td>\n",
       "      <td>0</td>\n",
       "      <td>0</td>\n",
       "      <td>0</td>\n",
       "      <td>0</td>\n",
       "      <td>0</td>\n",
       "      <td>0</td>\n",
       "      <td>0</td>\n",
       "      <td>0</td>\n",
       "      <td>0</td>\n",
       "      <td>0</td>\n",
       "    </tr>\n",
       "    <tr>\n",
       "      <th>3</th>\n",
       "      <td>4</td>\n",
       "      <td>0</td>\n",
       "      <td>0</td>\n",
       "      <td>0</td>\n",
       "      <td>0</td>\n",
       "      <td>0</td>\n",
       "      <td>0</td>\n",
       "      <td>0</td>\n",
       "      <td>0</td>\n",
       "      <td>0</td>\n",
       "      <td>...</td>\n",
       "      <td>0</td>\n",
       "      <td>0</td>\n",
       "      <td>0</td>\n",
       "      <td>0</td>\n",
       "      <td>0</td>\n",
       "      <td>0</td>\n",
       "      <td>0</td>\n",
       "      <td>0</td>\n",
       "      <td>0</td>\n",
       "      <td>0</td>\n",
       "    </tr>\n",
       "    <tr>\n",
       "      <th>4</th>\n",
       "      <td>0</td>\n",
       "      <td>0</td>\n",
       "      <td>0</td>\n",
       "      <td>0</td>\n",
       "      <td>0</td>\n",
       "      <td>0</td>\n",
       "      <td>0</td>\n",
       "      <td>0</td>\n",
       "      <td>0</td>\n",
       "      <td>0</td>\n",
       "      <td>...</td>\n",
       "      <td>0</td>\n",
       "      <td>0</td>\n",
       "      <td>0</td>\n",
       "      <td>0</td>\n",
       "      <td>0</td>\n",
       "      <td>0</td>\n",
       "      <td>0</td>\n",
       "      <td>0</td>\n",
       "      <td>0</td>\n",
       "      <td>0</td>\n",
       "    </tr>\n",
       "  </tbody>\n",
       "</table>\n",
       "<p>5 rows × 785 columns</p>\n",
       "</div>"
      ]
     },
     "execution_count": 3,
     "metadata": {},
     "output_type": "execute_result"
    }
   ],
   "execution_count": 3
  },
  {
   "metadata": {
    "ExecuteTime": {
     "end_time": "2024-08-31T14:02:53.271623Z",
     "start_time": "2024-08-31T14:02:53.262958Z"
    }
   },
   "cell_type": "code",
   "source": [
    "# Display the shape of the dataset\n",
    "data.shape"
   ],
   "id": "2808163d2cf597cc",
   "outputs": [
    {
     "data": {
      "text/plain": [
       "(42000, 785)"
      ]
     },
     "execution_count": 4,
     "metadata": {},
     "output_type": "execute_result"
    }
   ],
   "execution_count": 4
  },
  {
   "metadata": {
    "ExecuteTime": {
     "end_time": "2024-08-31T14:02:53.278289Z",
     "start_time": "2024-08-31T14:02:53.272635Z"
    }
   },
   "cell_type": "code",
   "source": [
    "# Display the unique values in the label column\n",
    "data[\"label\"].unique()"
   ],
   "id": "bc1b65557c6c2101",
   "outputs": [
    {
     "data": {
      "text/plain": [
       "array([1, 0, 4, 7, 3, 5, 8, 9, 2, 6])"
      ]
     },
     "execution_count": 5,
     "metadata": {},
     "output_type": "execute_result"
    }
   ],
   "execution_count": 5
  },
  {
   "metadata": {
    "ExecuteTime": {
     "end_time": "2024-08-31T14:02:53.284331Z",
     "start_time": "2024-08-31T14:02:53.279302Z"
    }
   },
   "cell_type": "code",
   "source": [
    "# Display the distribution of the labels\n",
    "data[\"label\"].value_counts()"
   ],
   "id": "a24f5562f0ae6927",
   "outputs": [
    {
     "data": {
      "text/plain": [
       "label\n",
       "1    4684\n",
       "7    4401\n",
       "3    4351\n",
       "9    4188\n",
       "2    4177\n",
       "6    4137\n",
       "0    4132\n",
       "4    4072\n",
       "8    4063\n",
       "5    3795\n",
       "Name: count, dtype: int64"
      ]
     },
     "execution_count": 6,
     "metadata": {},
     "output_type": "execute_result"
    }
   ],
   "execution_count": 6
  },
  {
   "metadata": {
    "ExecuteTime": {
     "end_time": "2024-08-31T14:02:53.288202Z",
     "start_time": "2024-08-31T14:02:53.285341Z"
    }
   },
   "cell_type": "code",
   "source": [
    "def plot_images(data, labels, num_images=10):\n",
    "    \"\"\"\n",
    "    Plots a specified number of images along with their corresponding labels.\n",
    "\n",
    "    Arguments:\n",
    "    data -- Array containing image data\n",
    "    labels -- Array containing labels corresponding to the images\n",
    "    num_images -- Number of images to plot\n",
    "    \"\"\"\n",
    "    fig, axes = plt.subplots(1, num_images, figsize=(15, 4))\n",
    "    for i in range(num_images):\n",
    "        axes[i].imshow(data[i].reshape(28, 28), cmap='gray')\n",
    "        axes[i].set_title(f'Label: {labels[i]}')\n",
    "        axes[i].axis('off')\n",
    "    plt.tight_layout()\n",
    "    plt.show()\n"
   ],
   "id": "6129b1627ce9db94",
   "outputs": [],
   "execution_count": 7
  },
  {
   "metadata": {
    "ExecuteTime": {
     "end_time": "2024-08-31T14:02:53.678545Z",
     "start_time": "2024-08-31T14:02:53.289215Z"
    }
   },
   "cell_type": "code",
   "source": [
    "# Plot the first 10 images\n",
    "plot_images(data.drop(columns=[\"label\"]).values, data[\"label\"].values)"
   ],
   "id": "d31b8f19791e1f65",
   "outputs": [
    {
     "data": {
      "text/plain": [
       "<Figure size 1500x400 with 10 Axes>"
      ],
      "image/png": "[encoded data removed]"
     },
     "metadata": {},
     "output_type": "display_data"
    }
   ],
   "execution_count": 8
  },
  {
   "metadata": {
    "ExecuteTime": {
     "end_time": "2024-08-31T14:02:53.773933Z",
     "start_time": "2024-08-31T14:02:53.679551Z"
    }
   },
   "cell_type": "code",
   "source": [
    "# Split into features and labels\n",
    "X = data.drop(columns=[\"label\"]).values\n",
    "Y = data[\"label\"].values"
   ],
   "id": "bf55320399043ee9",
   "outputs": [],
   "execution_count": 9
  },
  {
   "metadata": {
    "ExecuteTime": {
     "end_time": "2024-08-31T14:02:53.883863Z",
     "start_time": "2024-08-31T14:02:53.776942Z"
    }
   },
   "cell_type": "code",
   "source": [
    "# Normalize pixel values (0-255 -> 0-1)\n",
    "X = X / 255.0"
   ],
   "id": "5e10a09373fc1d4e",
   "outputs": [],
   "execution_count": 10
  },
  {
   "metadata": {
    "ExecuteTime": {
     "end_time": "2024-08-31T14:02:54.347304Z",
     "start_time": "2024-08-31T14:02:53.883863Z"
    }
   },
   "cell_type": "code",
   "source": [
    "# Split the data into training and testing sets\n",
    "X_train, X_test, y_train, y_test = train_test_split(X, Y, test_size=0.2, random_state=42, stratify=Y)"
   ],
   "id": "41d577b48b491599",
   "outputs": [],
   "execution_count": 11
  },
  {
   "metadata": {
    "ExecuteTime": {
     "end_time": "2024-08-31T14:02:54.351888Z",
     "start_time": "2024-08-31T14:02:54.348318Z"
    }
   },
   "cell_type": "code",
   "source": [
    "# Display the shapes of the training and testing sets\n",
    "X_train.shape, X_test.shape, y_train.shape, y_test.shape"
   ],
   "id": "5f50eec3810dabf1",
   "outputs": [
    {
     "data": {
      "text/plain": [
       "((33600, 784), (8400, 784), (33600,), (8400,))"
      ]
     },
     "execution_count": 12,
     "metadata": {},
     "output_type": "execute_result"
    }
   ],
   "execution_count": 12
  },
  {
   "metadata": {
    "ExecuteTime": {
     "end_time": "2024-08-31T14:02:54.355694Z",
     "start_time": "2024-08-31T14:02:54.352896Z"
    }
   },
   "cell_type": "code",
   "source": [
    "X_train = X_train.T\n",
    "X_test = X_test.T\n",
    "y_train = y_train.reshape(1, -1)\n",
    "y_test = y_test.reshape(1, -1)"
   ],
   "id": "ecc0487541ee004a",
   "outputs": [],
   "execution_count": 13
  },
  {
   "metadata": {
    "ExecuteTime": {
     "end_time": "2024-08-31T14:02:54.360044Z",
     "start_time": "2024-08-31T14:02:54.356701Z"
    }
   },
   "cell_type": "code",
   "source": "X_train.shape, X_test.shape, y_train.shape, y_test.shape",
   "id": "331ec7713a39e64f",
   "outputs": [
    {
     "data": {
      "text/plain": [
       "((784, 33600), (784, 8400), (1, 33600), (1, 8400))"
      ]
     },
     "execution_count": 14,
     "metadata": {},
     "output_type": "execute_result"
    }
   ],
   "execution_count": 14
  },
  {
   "metadata": {
    "ExecuteTime": {
     "end_time": "2024-08-31T14:02:54.363698Z",
     "start_time": "2024-08-31T14:02:54.360044Z"
    }
   },
   "cell_type": "code",
   "source": [
    "# Convert Y to a 2D matrix where each row corresponds to a one-hot encoded vector\n",
    "def one_hot_encode(Y, num_classes=10):\n",
    "    # Create an array of zeros with shape (number_of_examples, num_classes)\n",
    "    one_hot = np.zeros((Y.size, num_classes))\n",
    "    # Set the appropriate indices to 1\n",
    "    one_hot[np.arange(Y.size), Y] = 1\n",
    "    one_hot = one_hot.T\n",
    "    return one_hot"
   ],
   "id": "8b04ea4f502acb7e",
   "outputs": [],
   "execution_count": 15
  },
  {
   "metadata": {
    "ExecuteTime": {
     "end_time": "2024-08-31T14:02:54.368872Z",
     "start_time": "2024-08-31T14:02:54.364708Z"
    }
   },
   "cell_type": "code",
   "source": [
    "y_train = one_hot_encode(y_train)\n",
    "y_test = one_hot_encode(y_test)"
   ],
   "id": "c14d6415274961e2",
   "outputs": [],
   "execution_count": 16
  },
  {
   "metadata": {
    "ExecuteTime": {
     "end_time": "2024-08-31T14:02:54.372958Z",
     "start_time": "2024-08-31T14:02:54.368872Z"
    }
   },
   "cell_type": "code",
   "source": "y_train.shape, y_test.shape",
   "id": "93684994e69b4490",
   "outputs": [
    {
     "data": {
      "text/plain": [
       "((10, 33600), (10, 8400))"
      ]
     },
     "execution_count": 17,
     "metadata": {},
     "output_type": "execute_result"
    }
   ],
   "execution_count": 17
  },
  {
   "metadata": {
    "ExecuteTime": {
     "end_time": "2024-08-31T14:02:54.378227Z",
     "start_time": "2024-08-31T14:02:54.373964Z"
    }
   },
   "cell_type": "code",
   "source": "y_train[:, :10]",
   "id": "4b7be9484b8398e1",
   "outputs": [
    {
     "data": {
      "text/plain": [
       "array([[0., 0., 0., 0., 1., 0., 0., 0., 0., 0.],\n",
       "       [0., 0., 0., 0., 0., 0., 0., 0., 0., 0.],\n",
       "       [1., 0., 0., 0., 0., 0., 0., 1., 0., 0.],\n",
       "       [0., 1., 0., 0., 0., 0., 0., 0., 0., 0.],\n",
       "       [0., 0., 0., 1., 0., 0., 0., 0., 0., 0.],\n",
       "       [0., 0., 0., 0., 0., 0., 0., 0., 0., 0.],\n",
       "       [0., 0., 1., 0., 0., 1., 0., 0., 0., 0.],\n",
       "       [0., 0., 0., 0., 0., 0., 1., 0., 0., 0.],\n",
       "       [0., 0., 0., 0., 0., 0., 0., 0., 1., 0.],\n",
       "       [0., 0., 0., 0., 0., 0., 0., 0., 0., 1.]])"
      ]
     },
     "execution_count": 18,
     "metadata": {},
     "output_type": "execute_result"
    }
   ],
   "execution_count": 18
  },
  {
   "metadata": {},
   "cell_type": "markdown",
   "source": "# Class Testing",
   "id": "4766140a92b9edb4"
  },
  {
   "metadata": {},
   "cell_type": "code",
   "outputs": [],
   "execution_count": 19,
   "source": [
    "# Layers dimensions\n",
    "layers_dims = [X_train.shape[0], 128, 64, 32, 16, 10]"
   ],
   "id": "7524becb2a69aa16"
  },
  {
   "metadata": {},
   "cell_type": "code",
   "outputs": [],
   "execution_count": 20,
   "source": [
    "# Define the hyperparameters\n",
    "num_iterations = 1500\n",
    "learning_rate = 1e-1\n",
    "keep_prob = 75e-2\n",
    "lambd = 9e-1"
   ],
   "id": "2e537334b1d42c4"
  },
  {
   "metadata": {
    "ExecuteTime": {
     "end_time": "2024-08-31T17:22:17.662749Z",
     "start_time": "2024-08-31T17:22:17.656386Z"
    }
   },
   "cell_type": "code",
   "source": [
    "# List of model configurations to test\n",
    "models = {\n",
    "    \"Baseline\": mc.DeepNeuralNetworks(layers_dims),\n",
    "}"
   ],
   "id": "1b568b1833b1e3af",
   "outputs": [],
   "execution_count": 51
  },
  {
   "metadata": {
    "ExecuteTime": {
     "end_time": "2024-08-31T17:22:19.539531Z",
     "start_time": "2024-08-31T17:22:19.536224Z"
    }
   },
   "cell_type": "code",
   "source": [
    "# Select 100 examples to test \n",
    "X_selected = X_train[:, :100]\n",
    "y_selected = y_train[:, :100]"
   ],
   "id": "3fd6229681938f14",
   "outputs": [],
   "execution_count": 52
  },
  {
   "metadata": {
    "ExecuteTime": {
     "end_time": "2024-08-31T17:22:21.449513Z",
     "start_time": "2024-08-31T17:22:21.445605Z"
    }
   },
   "cell_type": "code",
   "source": "y_selected[:, :1]",
   "id": "bc6d11e34710b97f",
   "outputs": [
    {
     "data": {
      "text/plain": [
       "array([[0.],\n",
       "       [0.],\n",
       "       [1.],\n",
       "       [0.],\n",
       "       [0.],\n",
       "       [0.],\n",
       "       [0.],\n",
       "       [0.],\n",
       "       [0.],\n",
       "       [0.]])"
      ]
     },
     "execution_count": 53,
     "metadata": {},
     "output_type": "execute_result"
    }
   ],
   "execution_count": 53
  },
  {
   "metadata": {
    "ExecuteTime": {
     "end_time": "2024-08-31T17:22:25.820008Z",
     "start_time": "2024-08-31T17:22:23.734352Z"
    }
   },
   "cell_type": "code",
   "source": [
    "# Iterate through each model configuration\n",
    "for model_name, model in models.items():\n",
    "    print(f\"Testing model: {model_name}\")\n",
    "    for i in range(num_iterations):\n",
    "        \n",
    "        AL, cache = model.L_model_forward(X_selected)\n",
    "        cost = model.compute_cost(AL, y_selected)\n",
    "        grads = model.L_model_backward(AL, y_selected, cache)\n",
    "        parameters = model.update_parameters(grads, learning_rate)\n",
    "        \n",
    "        if i % 100 == 0 or i == num_iterations - 1:\n",
    "            print(f\"Epoch: {i}\\nCost: {cost}\\n\")\n",
    "\n",
    "    # Calculate accuracy\n",
    "    accuracy = model.calculate_accuracy(X_selected, y_selected)\n",
    "    print(f\"Accuracy for {model_name}: {accuracy}%\\n\")"
   ],
   "id": "ae71a3b8f7d80621",
   "outputs": [
    {
     "name": "stdout",
     "output_type": "stream",
     "text": [
      "Testing model: Baseline\n",
      "Epoch: 0\n",
      "Cost: 2.3849061787588828\n",
      "\n",
      "Epoch: 100\n",
      "Cost: 0.018996530681743312\n",
      "\n",
      "Epoch: 200\n",
      "Cost: 0.004766913615719169\n",
      "\n",
      "Epoch: 300\n",
      "Cost: 0.0024707339461099587\n",
      "\n",
      "Epoch: 400\n",
      "Cost: 0.0016070401893503333\n",
      "\n",
      "Epoch: 500\n",
      "Cost: 0.0011665189962079265\n",
      "\n",
      "Epoch: 600\n",
      "Cost: 0.0009053337724484348\n",
      "\n",
      "Epoch: 700\n",
      "Cost: 0.000733869747261821\n",
      "\n",
      "Epoch: 800\n",
      "Cost: 0.0006137185163464279\n",
      "\n",
      "Epoch: 900\n",
      "Cost: 0.000525030971176093\n",
      "\n",
      "Epoch: 1000\n",
      "Cost: 0.00045725220793683513\n",
      "\n",
      "Epoch: 1100\n",
      "Cost: 0.0004039603980900102\n",
      "\n",
      "Epoch: 1200\n",
      "Cost: 0.000361026488614862\n",
      "\n",
      "Epoch: 1300\n",
      "Cost: 0.0003257933285775749\n",
      "\n",
      "Epoch: 1400\n",
      "Cost: 0.0002963334760375204\n",
      "\n",
      "Epoch: 1499\n",
      "Cost: 0.00027164473132114907\n",
      "\n",
      "Accuracy for Baseline: 100.0%\n",
      "\n"
     ]
    }
   ],
   "execution_count": 54
  },
  {
   "metadata": {},
   "cell_type": "markdown",
   "source": "# Model Testing",
   "id": "ea7e51c8989f30bc"
  },
  {
   "metadata": {
    "ExecuteTime": {
     "end_time": "2024-08-31T14:11:27.755630Z",
     "start_time": "2024-08-31T14:02:55.902783Z"
    }
   },
   "cell_type": "code",
   "source": [
    "# Test the train method\n",
    "model = mc.DeepNeuralNetworks(layers_dims)\n",
    "params = model.fit(X_train, y_train, learning_rate=learning_rate, num_iterations=num_iterations, print_cost=True)"
   ],
   "id": "758c41cf91b12e51",
   "outputs": [
    {
     "name": "stdout",
     "output_type": "stream",
     "text": [
      "Cost after epoch 0: 2.388849681356903\n",
      "Cost after epoch 100: 0.37966429922097905\n",
      "Cost after epoch 200: 0.28873798816708407\n",
      "Cost after epoch 300: 0.18169606005579234\n",
      "Cost after epoch 400: 0.14729491399144387\n",
      "Cost after epoch 500: 0.12604390003389299\n",
      "Cost after epoch 600: 0.1055531663055137\n",
      "Cost after epoch 700: 0.09062494353427672\n",
      "Cost after epoch 800: 0.07866574262152361\n",
      "Cost after epoch 900: 0.06872849318224736\n",
      "Cost after epoch 1000: 0.060503732972207264\n",
      "Cost after epoch 1100: 0.05346046632262478\n",
      "Cost after epoch 1200: 0.04776227705057223\n",
      "Cost after epoch 1300: 0.04216804137473432\n",
      "Cost after epoch 1400: 0.03702140662182998\n",
      "Cost after epoch 1499: 0.0328629089978375\n"
     ]
    }
   ],
   "execution_count": 25
  },
  {
   "metadata": {
    "ExecuteTime": {
     "end_time": "2024-08-31T14:11:27.906151Z",
     "start_time": "2024-08-31T14:11:27.756645Z"
    }
   },
   "cell_type": "code",
   "source": [
    "# Test the predict method\n",
    "accuracy_train = model.calculate_accuracy(X_train, y_train)\n",
    "accuracy_test = model.calculate_accuracy(X_test, y_test)"
   ],
   "id": "cf7414338ca7136c",
   "outputs": [],
   "execution_count": 26
  },
  {
   "metadata": {
    "ExecuteTime": {
     "end_time": "2024-08-31T14:11:27.910106Z",
     "start_time": "2024-08-31T14:11:27.907150Z"
    }
   },
   "cell_type": "code",
   "source": "print(f'Accuracy on the training set: {accuracy_train}% \\nAccuracy on the testing set: {accuracy_test}%')",
   "id": "ca0b57f49098945f",
   "outputs": [
    {
     "name": "stdout",
     "output_type": "stream",
     "text": [
      "Accuracy on the training set: 99.33928571428572% \n",
      "Accuracy on the testing set: 96.63095238095238%\n"
     ]
    }
   ],
   "execution_count": 27
  },
  {
   "metadata": {
    "ExecuteTime": {
     "end_time": "2024-08-31T14:19:52.921556Z",
     "start_time": "2024-08-31T14:11:27.912115Z"
    }
   },
   "cell_type": "code",
   "source": [
    "# Test the L2 method\n",
    "L2_model = mc.DeepNeuralNetworks(layers_dims)\n",
    "params = L2_model.fit(X_train, y_train, learning_rate=learning_rate, num_iterations=num_iterations, print_cost=True, keep_prob=1., hidden_layers_dropout=False, lambd=lambd, L2_regularization=True)"
   ],
   "id": "eb04072f3fcc39c8",
   "outputs": [
    {
     "name": "stdout",
     "output_type": "stream",
     "text": [
      "Cost after epoch 0: 2.3955905849529198\n",
      "Cost after epoch 100: 0.39277868472685756\n",
      "Cost after epoch 200: 0.24480048651814076\n",
      "Cost after epoch 300: 0.19028169432628034\n",
      "Cost after epoch 400: 0.15497875687585436\n",
      "Cost after epoch 500: 0.15700069127767227\n",
      "Cost after epoch 600: 0.11725862543633488\n",
      "Cost after epoch 700: 0.10078780902493263\n",
      "Cost after epoch 800: 0.08839753868936354\n",
      "Cost after epoch 900: 0.07831752230671914\n",
      "Cost after epoch 1000: 0.06984895595766184\n",
      "Cost after epoch 1100: 0.06260025955750272\n",
      "Cost after epoch 1200: 0.05633536410166247\n",
      "Cost after epoch 1300: 0.05083136849332409\n",
      "Cost after epoch 1400: 0.04593591342489073\n",
      "Cost after epoch 1499: 0.04170593892255137\n"
     ]
    }
   ],
   "execution_count": 28
  },
  {
   "metadata": {
    "ExecuteTime": {
     "end_time": "2024-08-31T14:19:53.055581Z",
     "start_time": "2024-08-31T14:19:52.922562Z"
    }
   },
   "cell_type": "code",
   "source": [
    "# Test the predict method\n",
    "accuracy_train = L2_model.calculate_accuracy(X_train, y_train)\n",
    "accuracy_test = L2_model.calculate_accuracy(X_test, y_test)"
   ],
   "id": "74632503c816f95a",
   "outputs": [],
   "execution_count": 29
  },
  {
   "metadata": {
    "ExecuteTime": {
     "end_time": "2024-08-31T14:19:53.059570Z",
     "start_time": "2024-08-31T14:19:53.055581Z"
    }
   },
   "cell_type": "code",
   "source": "print(f'Accuracy on the training set: {accuracy_train}% \\nAccuracy on the testing set: {accuracy_test}%')",
   "id": "b8848887813929ed",
   "outputs": [
    {
     "name": "stdout",
     "output_type": "stream",
     "text": [
      "Accuracy on the training set: 99.29166666666667% \n",
      "Accuracy on the testing set: 96.60714285714286%\n"
     ]
    }
   ],
   "execution_count": 30
  },
  {
   "metadata": {
    "ExecuteTime": {
     "end_time": "2024-08-31T14:31:25.583777Z",
     "start_time": "2024-08-31T14:19:53.060572Z"
    }
   },
   "cell_type": "code",
   "source": [
    "# Test the Dropout method\n",
    "dropout_model = mc.DeepNeuralNetworks(layers_dims)\n",
    "params = dropout_model.fit(X_train, y_train, learning_rate=learning_rate, num_iterations=num_iterations, print_cost=True, keep_prob=keep_prob, hidden_layers_dropout=True)"
   ],
   "id": "3bd86f370cac33c8",
   "outputs": [
    {
     "name": "stdout",
     "output_type": "stream",
     "text": [
      "Cost after epoch 0: 2.6011111582033513\n",
      "Cost after epoch 100: 1.549674743246704\n",
      "Cost after epoch 200: 1.0535337330904653\n",
      "Cost after epoch 300: 0.8311827377309714\n",
      "Cost after epoch 400: 0.6894319484757797\n",
      "Cost after epoch 500: 0.5969725913704131\n",
      "Cost after epoch 600: 0.5339226554843525\n",
      "Cost after epoch 700: 0.48555319620043047\n",
      "Cost after epoch 800: 0.4481453614353086\n",
      "Cost after epoch 900: 0.4105327957543097\n",
      "Cost after epoch 1000: 0.39234132055504634\n",
      "Cost after epoch 1100: 0.36264867660292555\n",
      "Cost after epoch 1200: 0.3472854274304927\n",
      "Cost after epoch 1300: 0.32562229141970195\n",
      "Cost after epoch 1400: 0.313307036691468\n",
      "Cost after epoch 1499: 0.2974783751749859\n"
     ]
    }
   ],
   "execution_count": 31
  },
  {
   "metadata": {
    "ExecuteTime": {
     "end_time": "2024-08-31T14:31:25.755834Z",
     "start_time": "2024-08-31T14:31:25.584342Z"
    }
   },
   "cell_type": "code",
   "source": [
    "# Test the predict method\n",
    "accuracy_train = dropout_model.calculate_accuracy(X_train, y_train)\n",
    "accuracy_test = dropout_model.calculate_accuracy(X_test, y_test)"
   ],
   "id": "2d9a165b85fccc9e",
   "outputs": [],
   "execution_count": 32
  },
  {
   "metadata": {
    "ExecuteTime": {
     "end_time": "2024-08-31T14:31:25.759828Z",
     "start_time": "2024-08-31T14:31:25.755834Z"
    }
   },
   "cell_type": "code",
   "source": "print(f'Accuracy on the training set: {accuracy_train}% \\nAccuracy on the testing set: {accuracy_test}%')",
   "id": "8b1fa029165d2e51",
   "outputs": [
    {
     "name": "stdout",
     "output_type": "stream",
     "text": [
      "Accuracy on the training set: 97.53571428571428% \n",
      "Accuracy on the testing set: 95.64285714285714%\n"
     ]
    }
   ],
   "execution_count": 33
  },
  {
   "metadata": {
    "ExecuteTime": {
     "end_time": "2024-08-31T14:43:12.326710Z",
     "start_time": "2024-08-31T14:31:25.760826Z"
    }
   },
   "cell_type": "code",
   "source": [
    "# Test the Regularization + Dropout method\n",
    "regularization_dropout_model = mc.DeepNeuralNetworks(layers_dims)\n",
    "params = regularization_dropout_model.fit(X_train, y_train, learning_rate=learning_rate, num_iterations=num_iterations, print_cost=True, keep_prob=keep_prob, hidden_layers_dropout=True, lambd=lambd, L2_regularization=True)"
   ],
   "id": "e4a038d3c33c7658",
   "outputs": [
    {
     "name": "stdout",
     "output_type": "stream",
     "text": [
      "Cost after epoch 0: 2.607852061799368\n",
      "Cost after epoch 100: 1.5566230692854357\n",
      "Cost after epoch 200: 1.0606406772604817\n",
      "Cost after epoch 300: 0.8384609319933573\n",
      "Cost after epoch 400: 0.6967159157227635\n",
      "Cost after epoch 500: 0.6042898569358541\n",
      "Cost after epoch 600: 0.54130150495219\n",
      "Cost after epoch 700: 0.4930232658049399\n",
      "Cost after epoch 800: 0.45566911215134925\n",
      "Cost after epoch 900: 0.41812262951262363\n",
      "Cost after epoch 1000: 0.3999099476651541\n",
      "Cost after epoch 1100: 0.37028697471245026\n",
      "Cost after epoch 1200: 0.3551556448248168\n",
      "Cost after epoch 1300: 0.3333640508350926\n",
      "Cost after epoch 1400: 0.3211221722463776\n",
      "Cost after epoch 1499: 0.30536492384319125\n"
     ]
    }
   ],
   "execution_count": 34
  },
  {
   "metadata": {
    "ExecuteTime": {
     "end_time": "2024-08-31T14:43:12.474624Z",
     "start_time": "2024-08-31T14:43:12.327684Z"
    }
   },
   "cell_type": "code",
   "source": [
    "# Test the predict method\n",
    "accuracy_train = regularization_dropout_model.calculate_accuracy(X_train, y_train)\n",
    "accuracy_test = regularization_dropout_model.calculate_accuracy(X_test, y_test)"
   ],
   "id": "f5270a6f4d90e04a",
   "outputs": [],
   "execution_count": 35
  },
  {
   "metadata": {
    "ExecuteTime": {
     "end_time": "2024-08-31T14:43:12.478618Z",
     "start_time": "2024-08-31T14:43:12.474624Z"
    }
   },
   "cell_type": "code",
   "source": "print(f'Accuracy on the training set: {accuracy_train}% \\nAccuracy on the testing set: {accuracy_test}%')",
   "id": "95534777e4f6ba10",
   "outputs": [
    {
     "name": "stdout",
     "output_type": "stream",
     "text": [
      "Accuracy on the training set: 97.5297619047619% \n",
      "Accuracy on the testing set: 95.61904761904762%\n"
     ]
    }
   ],
   "execution_count": 36
  },
  {
   "metadata": {},
   "cell_type": "markdown",
   "source": "# Testing the Model on the MNIST Dataset",
   "id": "93b4cd29068fb036"
  },
  {
   "metadata": {
    "ExecuteTime": {
     "end_time": "2024-08-31T17:05:52.539078Z",
     "start_time": "2024-08-31T17:05:51.478641Z"
    }
   },
   "cell_type": "code",
   "source": [
    "# Make Prediction on the test set\n",
    "test_data = pd.read_csv('test.csv')"
   ],
   "id": "59a672e231cc19b3",
   "outputs": [],
   "execution_count": 37
  },
  {
   "metadata": {
    "ExecuteTime": {
     "end_time": "2024-08-31T17:19:50.307955Z",
     "start_time": "2024-08-31T17:19:50.303409Z"
    }
   },
   "cell_type": "code",
   "source": [
    "# Display the shape of the test data\n",
    "test_data.shape"
   ],
   "id": "e8121097464c1259",
   "outputs": [
    {
     "data": {
      "text/plain": [
       "(784, 28000)"
      ]
     },
     "execution_count": 50,
     "metadata": {},
     "output_type": "execute_result"
    }
   ],
   "execution_count": 50
  },
  {
   "metadata": {
    "ExecuteTime": {
     "end_time": "2024-08-31T17:05:54.466324Z",
     "start_time": "2024-08-31T17:05:54.462813Z"
    }
   },
   "cell_type": "code",
   "source": [
    "# Get the values of the test data\n",
    "test_data = test_data.values.T"
   ],
   "id": "30fa45c75aa020ad",
   "outputs": [],
   "execution_count": 38
  },
  {
   "metadata": {
    "ExecuteTime": {
     "end_time": "2024-08-31T17:05:55.893826Z",
     "start_time": "2024-08-31T17:05:55.814198Z"
    }
   },
   "cell_type": "code",
   "source": [
    "# Normalize the pixel values\n",
    "test_data = test_data / 255.0"
   ],
   "id": "bb83cdb7fc04ba18",
   "outputs": [],
   "execution_count": 39
  },
  {
   "metadata": {
    "ExecuteTime": {
     "end_time": "2024-08-31T17:14:43.193713Z",
     "start_time": "2024-08-31T17:14:43.100358Z"
    }
   },
   "cell_type": "code",
   "source": [
    "# Make predictions\n",
    "predictions = model.predict(test_data)"
   ],
   "id": "4a909a5828be2f97",
   "outputs": [],
   "execution_count": 46
  },
  {
   "metadata": {
    "ExecuteTime": {
     "end_time": "2024-08-31T17:14:44.108300Z",
     "start_time": "2024-08-31T17:14:44.103467Z"
    }
   },
   "cell_type": "code",
   "source": [
    "# Display the shape of the predictions\n",
    "predictions.shape"
   ],
   "id": "680e18816bba395b",
   "outputs": [
    {
     "data": {
      "text/plain": [
       "(28000,)"
      ]
     },
     "execution_count": 47,
     "metadata": {},
     "output_type": "execute_result"
    }
   ],
   "execution_count": 47
  },
  {
   "metadata": {
    "ExecuteTime": {
     "end_time": "2024-08-31T17:14:45.370653Z",
     "start_time": "2024-08-31T17:14:45.366905Z"
    }
   },
   "cell_type": "code",
   "source": [
    "# Display the first few predictions\n",
    "predictions[:10]"
   ],
   "id": "7c665c3bd112a049",
   "outputs": [
    {
     "data": {
      "text/plain": [
       "array([2, 0, 9, 9, 3, 7, 0, 3, 0, 3])"
      ]
     },
     "execution_count": 48,
     "metadata": {},
     "output_type": "execute_result"
    }
   ],
   "execution_count": 48
  },
  {
   "metadata": {
    "ExecuteTime": {
     "end_time": "2024-08-31T17:14:46.371252Z",
     "start_time": "2024-08-31T17:14:46.346681Z"
    }
   },
   "cell_type": "code",
   "source": [
    "# Convert the predictions to a pandas dataframe\n",
    "result = pd.DataFrame({\n",
    "    \"ImageId\": range(1, len(predictions) + 1),\n",
    "    \"Label\": predictions\n",
    "    })\n",
    "result.to_csv(\"prediction.csv\", index=False)"
   ],
   "id": "fae282a25afd02a9",
   "outputs": [],
   "execution_count": 49
  }
 ],
 "metadata": {
  "kernelspec": {
   "display_name": "Python 3",
   "language": "python",
   "name": "python3"
  },
  "language_info": {
   "codemirror_mode": {
    "name": "ipython",
    "version": 2
   },
   "file_extension": ".py",
   "mimetype": "text/x-python",
   "name": "python",
   "nbconvert_exporter": "python",
   "pygments_lexer": "ipython2",
   "version": "2.7.6"
  }
 },
 "nbformat": 4,
 "nbformat_minor": 5
}
